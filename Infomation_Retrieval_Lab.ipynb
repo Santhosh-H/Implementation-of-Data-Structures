{
  "nbformat": 4,
  "nbformat_minor": 0,
  "metadata": {
    "colab": {
      "provenance": []
    },
    "kernelspec": {
      "name": "python3",
      "display_name": "Python 3"
    },
    "language_info": {
      "name": "python"
    }
  },
  "cells": [
    {
      "cell_type": "code",
      "execution_count": null,
      "metadata": {
        "colab": {
          "base_uri": "https://localhost:8080/"
        },
        "id": "B_gfucecNk_v",
        "outputId": "ce657b27-938b-4f7f-c430-48e2b7f379b7"
      },
      "outputs": [
        {
          "output_type": "stream",
          "name": "stdout",
          "text": [
            "Original Document Size: 720\n",
            "\n",
            "Summary:\n",
            "The European rabbit, Oryctolagus cuniculus, is the ancestor of the world's hundreds of breeds of domestic rabbit. With its widespread effect on ecologies and cultures, in many areas of\n",
            "the world, the rabbit is a part of daily life – as food, clothing, a companion, and a source of artistic inspiration.\n",
            "\n",
            "Summary Length: 303\n"
          ]
        }
      ],
      "source": [
        "\"1.DEVELOP A SYSTEM FOR DOCUMENT SUMMARIZATION\"\n",
        "import spacy\n",
        "import pytextrank\n",
        "nlp = spacy.load(\"en_core_web_lg\")\n",
        "nlp.add_pipe(\"textrank\")\n",
        "example_text = \"\"\"\n",
        "Rabbits are small mammals in the family Leporidae (which also includes the hares), which is in the order Lagomorpha (which also includes pikas).\n",
        "The European rabbit, Oryctolagus cuniculus, is the ancestor of the world's hundreds of breeds of domestic rabbit. Sylvilagus includes 13 wild rabbit species, among them the seven types of cottontail.\n",
        "The European rabbit, which has been introduced on every continent except Antarctica, is familiar throughout the world as a wild prey animal, a domesticated form of livestock and a pet. With its widespread effect on ecologies and cultures, in many areas of\n",
        "the world, the rabbit is a part of daily life – as food, clothing, a companion, and a source of artistic inspiration.\n",
        "\"\"\"\n",
        "print(\"Original Document Size:\", len(example_text))\n",
        "doc = nlp(example_text)\n",
        "summary_sentences = []\n",
        "for sent in doc._.textrank.summary(limit_phrases=2, limit_sentences=2):\n",
        "    summary_sentences.append(sent.text)\n",
        "summary_text = \" \".join(summary_sentences)\n",
        "print(\"\\nSummary:\")\n",
        "print(summary_text)\n",
        "print(\"Summary Length:\", len(summary_text))\n",
        "\n"
      ]
    },
    {
      "cell_type": "code",
      "source": [
        "\"2.DEVELOP A MOVIE TITLE RECOMMENDATION SYSTEM\"\n",
        "movies = [\n",
        "    {\"title\": \"The Shawshank Redemption\", \"genres\": [\"Drama\", \"Crime\"], \"keywords\": [\"prison\", \"escape\", \"redemption\"]},\n",
        "    {\"title\": \"The Godfather\", \"genres\": [\"Drama\", \"Crime\"], \"keywords\": [\"mafia\", \"family\", \"betrayal\"]},\n",
        "    {\"title\": \"The Dark Knight\", \"genres\": [\"Action\", \"Crime\", \"Drama\"], \"keywords\": [\"superhero\", \"batman\", \"joker\"]},\n",
        "    {\"title\": \"Pulp Fiction\", \"genres\": [\"Crime\", \"Drama\"], \"keywords\": [\"violence\", \"cult film\", \"dialogue driven\"]},\n",
        "    {\"title\": \"Forrest Gump\", \"genres\": [\"Drama\", \"Romance\"], \"keywords\": [\"life\", \"success\", \"journey\"]},\n",
        "    {\"title\": \"Inception\", \"genres\": [\"Action\", \"Adventure\", \"Sci-Fi\"], \"keywords\": [\"dream\", \"heist\", \"mind bending\"]},\n",
        "]\n",
        "def recommend_movies(user_movie, movies):\n",
        "    recommended_movies = []\n",
        "    user_genres = None\n",
        "    for movie in movies:\n",
        "        if movie[\"title\"].lower() == user_movie.lower():\n",
        "            user_genres = set(movie[\"genres\"])\n",
        "            break\n",
        "    if not user_genres:\n",
        "        return \"Movie not found in the database.\"\n",
        "    for movie in movies:\n",
        "        if movie[\"title\"].lower() != user_movie.lower():\n",
        "            common_genres = set(movie[\"genres\"]) & user_genres\n",
        "            if common_genres:\n",
        "                recommended_movies.append(movie[\"title\"])\n",
        "    return recommended_movies\n",
        "user_movie = input(\"Enter a movie title: \")\n",
        "recommended = recommend_movies(user_movie, movies)\n",
        "print(\"Recommended movies:\", recommended)\n"
      ],
      "metadata": {
        "colab": {
          "base_uri": "https://localhost:8080/"
        },
        "id": "meJf5P72PbFu",
        "outputId": "987b1cf7-ec4b-4a0a-91fb-9026271a24a2"
      },
      "execution_count": null,
      "outputs": [
        {
          "output_type": "stream",
          "name": "stdout",
          "text": [
            "Enter a movie title: The Godfather\n",
            "Recommended movies: ['The Shawshank Redemption', 'The Dark Knight', 'Pulp Fiction', 'Forrest Gump']\n"
          ]
        }
      ]
    },
    {
      "cell_type": "code",
      "source": [
        "\"3.DEVELOP A PROGRAM FOR SPAM MAIL DETECTION\"\n",
        "def is_spam(text):\n",
        "    spam_keywords = [\"free\", \"win\", \"prize\", \"money\", \"urgent\", \"limited time\", \"hello\", \"hi\", \"well\", \"food\"]\n",
        "    text_lower = text.lower()\n",
        "    if any(keyword in text_lower for keyword in spam_keywords):\n",
        "        return True\n",
        "    else:\n",
        "        return False\n",
        "email_text = input(\"Enter the email text: \")\n",
        "if is_spam(email_text):\n",
        "    print(\"This email might be spam.\")\n",
        "else:\n",
        "    print(\"This email seems okay.\")\n"
      ],
      "metadata": {
        "colab": {
          "base_uri": "https://localhost:8080/"
        },
        "id": "bWoNF2c0QF2Z",
        "outputId": "6c6c1716-a8be-40dc-dd29-6e5dd0756791"
      },
      "execution_count": null,
      "outputs": [
        {
          "output_type": "stream",
          "name": "stdout",
          "text": [
            "Enter the email text: love\n",
            "This email seems okay.\n"
          ]
        }
      ]
    },
    {
      "cell_type": "code",
      "source": [
        "\"4.DEVELOP A SMALL SEARCH ENGINE FOR WIKI\"\n",
        "!pip install wikipedia\n",
        "import wikipedia\n",
        "def search_wiki(query):\n",
        "    results = wikipedia.search(query)\n",
        "    if results:\n",
        "        print(\"Search results:\")\n",
        "        for i, result in enumerate(results):\n",
        "            print(f\"{i+1}. {result}\")\n",
        "        choice = int(input(\"Enter the number of the article you want to view (or 0 to exit): \"))\n",
        "        if choice > 0 and choice <= len(results):\n",
        "            try:\n",
        "                page = wikipedia.page(results[choice - 1])\n",
        "                print(\"\\nTitle:\", page.title)\n",
        "                print(\"\\nSummary:\", page.summary)\n",
        "            except wikipedia.exceptions.DisambiguationError as e:\n",
        "                print(\"\\nThe search term is ambiguous. Possible options:\")\n",
        "                for option in e.options:\n",
        "                    print(option)\n",
        "            except wikipedia.exceptions.PageError as e:\n",
        "                print(\"\\nError fetching the page:\", e)\n",
        "        else:\n",
        "            print(\"Exiting without viewing an article.\")\n",
        "    else:\n",
        "        print(\"No results found.\")\n",
        "query = input(\"Enter your search query: \")\n",
        "search_wiki(query)\n"
      ],
      "metadata": {
        "colab": {
          "base_uri": "https://localhost:8080/"
        },
        "id": "sOX5mQfiQkQL",
        "outputId": "563aa432-1372-48b7-e03e-08440bbd929b"
      },
      "execution_count": null,
      "outputs": [
        {
          "output_type": "stream",
          "name": "stdout",
          "text": [
            "Collecting wikipedia\n",
            "  Downloading wikipedia-1.4.0.tar.gz (27 kB)\n",
            "  Preparing metadata (setup.py) ... \u001b[?25l\u001b[?25hdone\n",
            "Requirement already satisfied: beautifulsoup4 in /usr/local/lib/python3.10/dist-packages (from wikipedia) (4.12.3)\n",
            "Requirement already satisfied: requests<3.0.0,>=2.0.0 in /usr/local/lib/python3.10/dist-packages (from wikipedia) (2.32.3)\n",
            "Requirement already satisfied: charset-normalizer<4,>=2 in /usr/local/lib/python3.10/dist-packages (from requests<3.0.0,>=2.0.0->wikipedia) (3.4.0)\n",
            "Requirement already satisfied: idna<4,>=2.5 in /usr/local/lib/python3.10/dist-packages (from requests<3.0.0,>=2.0.0->wikipedia) (3.10)\n",
            "Requirement already satisfied: urllib3<3,>=1.21.1 in /usr/local/lib/python3.10/dist-packages (from requests<3.0.0,>=2.0.0->wikipedia) (2.2.3)\n",
            "Requirement already satisfied: certifi>=2017.4.17 in /usr/local/lib/python3.10/dist-packages (from requests<3.0.0,>=2.0.0->wikipedia) (2024.8.30)\n",
            "Requirement already satisfied: soupsieve>1.2 in /usr/local/lib/python3.10/dist-packages (from beautifulsoup4->wikipedia) (2.6)\n",
            "Building wheels for collected packages: wikipedia\n",
            "  Building wheel for wikipedia (setup.py) ... \u001b[?25l\u001b[?25hdone\n",
            "  Created wheel for wikipedia: filename=wikipedia-1.4.0-py3-none-any.whl size=11679 sha256=c479b9e7cd5023de8668d9061bd10136225175ab1c8e4e3b83568f7b937d4a4d\n",
            "  Stored in directory: /root/.cache/pip/wheels/5e/b6/c5/93f3dec388ae76edc830cb42901bb0232504dfc0df02fc50de\n",
            "Successfully built wikipedia\n",
            "Installing collected packages: wikipedia\n",
            "Successfully installed wikipedia-1.4.0\n",
            "Enter your search query: Hello\n",
            "Search results:\n",
            "1. Hello\n",
            "2. \"Hello, World!\" program\n",
            "3. Hello Hello\n",
            "4. Hello Kitty\n",
            "5. Hello, Frisco, Hello\n",
            "6. Hello, Hello Brazil!\n",
            "7. Hello, Hello, Hello\n",
            "8. Hello, Love, Again\n",
            "9. Hello (Adele song)\n",
            "10. Hello Neighbor\n",
            "Enter the number of the article you want to view (or 0 to exit): 1\n",
            "\n",
            "Title: Hell\n",
            "\n",
            "Summary: In religion and folklore, hell is a location or state in the afterlife in which souls are subjected to punitive suffering, most often through torture, as punishment after death. Religions with a linear divine history often depict hells as eternal destinations, the biggest examples of which are Christianity and Islam, whereas religions with reincarnation usually depict a hell as an intermediary period between incarnations, as is the case in the Indian religions. Religions typically locate hell in another dimension or under Earth's surface. Other afterlife destinations include heaven, paradise, purgatory, limbo, and the underworld.\n",
            "Other religions, which do not conceive of the afterlife as a place of punishment or reward, merely describe an abode of the dead, the grave, a neutral place that is located under the surface of Earth (for example, see Kur, Hades, and Sheol). Such places are sometimes equated with the English word hell, though a more correct translation would be \"underworld\" or \"world of the dead\". The ancient Mesopotamian, Greek, Roman, and Finnic religions include entrances to the underworld from the land of the living.\n"
          ]
        }
      ]
    },
    {
      "cell_type": "code",
      "source": [
        "\"5.DEVELOP A CLASSIFIER SYSTEM FOR TWEETS CLASSIFICATION\"\n",
        "import re\n",
        "def classify_tweet(tweet):\n",
        "    tweet = tweet.lower()\n",
        "    positive_keywords = [\"happy\", \"good\", \"great\", \"love\", \"amazing\", \"excellent\"]\n",
        "    negative_keywords = [\"sad\", \"bad\", \"terrible\", \"hate\", \"awful\", \"horrible\"]\n",
        "    question_pattern = r\"\\?$\"\n",
        "    exclamation_pattern = r\"!$\"\n",
        "    if any(keyword in tweet for keyword in positive_keywords):\n",
        "        if re.search(exclamation_pattern, tweet):\n",
        "            return \"Positive (Excited)\"\n",
        "        else:\n",
        "            return \"Positive\"\n",
        "    elif any(keyword in tweet for keyword in negative_keywords):\n",
        "        return \"Negative\"\n",
        "    elif re.search(question_pattern, tweet):\n",
        "        return \"Question\"\n",
        "    elif re.search(exclamation_pattern, tweet):\n",
        "        return \"Exclamation\"\n",
        "    else:\n",
        "        return \"Neutral\"\n",
        "user_tweet = input(\"Enter a tweet: \")\n",
        "category = classify_tweet(user_tweet)\n",
        "print(f\"The tweet is classified as: {category}\")"
      ],
      "metadata": {
        "colab": {
          "base_uri": "https://localhost:8080/"
        },
        "id": "W5a7GII5RGPa",
        "outputId": "c24f49f8-bcce-423b-9dd0-e538960d5176"
      },
      "execution_count": null,
      "outputs": [
        {
          "output_type": "stream",
          "name": "stdout",
          "text": [
            "Enter a tweet: happy\n",
            "The tweet is classified as: Positive\n"
          ]
        }
      ]
    },
    {
      "cell_type": "code",
      "source": [
        "\"6.DEVELOP A PERSONALIZED NEWS RECOMMENDATION SYSTEM\"\n",
        "def get_news_recommendations(user_query):\n",
        "    if \"sports\" in user_query.lower():\n",
        "        recommendations = [\n",
        "            \"Breaking News: Lakers win championship!\",\n",
        "            \"Yankees make a trade deadline splash.\",\n",
        "            \"Messi scores a hat-trick in the final\"\n",
        "        ]\n",
        "    elif \"technology\" in user_query.lower():\n",
        "        recommendations = [\n",
        "            \"Apple announces new iPhone model\",\n",
        "            \"Tesla releases software update\",\n",
        "            \"Google AI makes breakthrough\"\n",
        "        ]\n",
        "    elif \"politics\" in user_query.lower():\n",
        "        recommendations = [\n",
        "            \"New election results are in\",\n",
        "            \"President makes an important announcement\",\n",
        "            \"Congress debates new legislation\"\n",
        "        ]\n",
        "    else:\n",
        "        recommendations = [\n",
        "            \"Generic news headline 1\",\n",
        "            \"Generic news headline 2\",\n",
        "            \"Generic news headline 3\"\n",
        "        ]\n",
        "    return recommendations\n",
        "user_query = input(\"Enter your news interests: \")\n",
        "recommendations = get_news_recommendations(user_query)\n",
        "print(\"\\nRecommended News Articles:\")\n",
        "for i, article in enumerate(recommendations):\n",
        "    print(f\"{i+1}. {article}\")\n"
      ],
      "metadata": {
        "colab": {
          "base_uri": "https://localhost:8080/"
        },
        "id": "LxZ_AW4iRjS4",
        "outputId": "e96e231e-7521-4d2d-ead2-7b9293892b71"
      },
      "execution_count": null,
      "outputs": [
        {
          "output_type": "stream",
          "name": "stdout",
          "text": [
            "Enter your news interests: technology\n",
            "\n",
            "Recommended News Articles:\n",
            "1. Apple announces new iPhone model\n",
            "2. Tesla releases software update\n",
            "3. Google AI makes breakthrough\n"
          ]
        }
      ]
    },
    {
      "cell_type": "code",
      "source": [
        "\"7.IMPLEMENT A SIMPLE CHATBOT FOR FAQ RETRIEVAL\"\n",
        "def faq_retrieval(user_input):\n",
        "    faq_data = {\n",
        "        \"What are your hours of operation?\": \"We are open Monday-Friday, 9am to 5pm.\",\n",
        "        \"How do I reset my password?\": \"Visit our website and click on the 'Forgot Password' link.\",\n",
        "        \"What payment methods do you accept?\": \"We accept Visa, Mastercard, and American Express.\",\n",
        "        \"What is your return policy?\": \"We offer a 30-day return policy on most items.\",\n",
        "        \"Where is your store located?\": \"123 Main Street, Anytown, USA\",\n",
        "        \"Where is the nearest store?\": \"123 Main Street, Anytown, USA\",\n",
        "        \"What are your shipping options?\": \"We offer standard and express shipping.\",\n",
        "        \"Do you offer international shipping?\": \"Yes, we ship internationally to select countries.\",\n",
        "        \"How can I track my order?\": \"You can track your order on our website using your order number.\",\n",
        "        \"What is your cancellation policy?\": \"Orders can be cancelled within 24 hours of placement.\",\n",
        "        \"Do you have a loyalty program?\": \"Yes, we offer a loyalty program with exclusive benefits.\",\n",
        "        \"How do I contact customer support?\": \"You can contact us via email at support@example.com or call us at 1-800-123-4567.\"\n",
        "    }\n",
        "    user_input = user_input.lower()\n",
        "    for question, answer in faq_data.items():\n",
        "        if any(keyword in user_input for keyword in question.lower().split()):\n",
        "            return answer\n",
        "    return \"I'm sorry, I couldn't find an answer to your question. Could you please rephrase or ask something else?\"\n",
        "user_query = input(\"Ask a question: \")\n",
        "response = faq_retrieval(user_query)\n",
        "print(response)\n"
      ],
      "metadata": {
        "colab": {
          "base_uri": "https://localhost:8080/"
        },
        "id": "pXqEn_kZR7pp",
        "outputId": "d51461a2-a62e-42d8-940b-6b4b05f6b310"
      },
      "execution_count": null,
      "outputs": [
        {
          "output_type": "stream",
          "name": "stdout",
          "text": [
            "Ask a question: What are your hours of operation?\n",
            "We are open Monday-Friday, 9am to 5pm.\n"
          ]
        }
      ]
    },
    {
      "cell_type": "code",
      "source": [
        "\"8.DEVELOP A SENTIMENT ANALYSIS TOOL FOR PRODUCT REVIEWS\"\n",
        "import nltk\n",
        "from nltk.sentiment.vader import SentimentIntensityAnalyzer\n",
        "nltk.download('vader_lexicon')\n",
        "def analyze_product_review(review):\n",
        "    analyzer = SentimentIntensityAnalyzer()\n",
        "    scores = analyzer.polarity_scores(review)\n",
        "    if scores['compound'] >= 0.05:\n",
        "        sentiment = \"Positive\"\n",
        "    elif scores['compound'] <= -0.05:\n",
        "        sentiment = \"Negative\"\n",
        "    else:\n",
        "        sentiment = \"Neutral\"\n",
        "    return sentiment, scores\n",
        "user_review = input(\"Enter your product review: \")\n",
        "sentiment, scores = analyze_product_review(user_review)\n",
        "print(f\"Sentiment: {sentiment}\")\n",
        "print(f\"Scores: {scores}\")\n"
      ],
      "metadata": {
        "colab": {
          "base_uri": "https://localhost:8080/"
        },
        "id": "34m-oqUoSRjt",
        "outputId": "1d318688-f59b-49cd-d81f-048e6ed3ece7"
      },
      "execution_count": null,
      "outputs": [
        {
          "output_type": "stream",
          "name": "stderr",
          "text": [
            "[nltk_data] Downloading package vader_lexicon to /root/nltk_data...\n"
          ]
        },
        {
          "output_type": "stream",
          "name": "stdout",
          "text": [
            "Enter your product review: good\n",
            "Sentiment: Positive\n",
            "Scores: {'neg': 0.0, 'neu': 0.0, 'pos': 1.0, 'compound': 0.4404}\n"
          ]
        }
      ]
    },
    {
      "cell_type": "code",
      "source": [
        "\"9.BUILD A SYSTEM FOR AUTOMATIC KEYWORD EXTRACTION FROM DOCUMENT\"\n",
        "!pip install pytextrank\n",
        "!pip install spacy\n",
        "!python -m spacy download en_core_web_lg\n",
        "import spacy\n",
        "import pytextrank\n",
        "import nltk\n",
        "import wikipedia\n",
        "import re\n",
        "from nltk.sentiment.vader import SentimentIntensityAnalyzer\n",
        "ir = spacy.load(\"en_core_web_lg\")\n",
        "ir.add_pipe(\"textrank\")\n",
        "def extract_keywords(text, limit=10):\n",
        "    doc = ir(text)\n",
        "    keywords = []\n",
        "    for phrase in doc._.phrases[:limit]:\n",
        "        keywords.append(phrase.text)\n",
        "    return keywords\n",
        "def main():\n",
        "    user_input = input(\"Enter text to extract keywords from: \")\n",
        "    if user_input:\n",
        "        keywords = extract_keywords(user_input)\n",
        "        print(\"\\nKeywords:\")\n",
        "        for keyword in keywords:\n",
        "            print(keyword)\n",
        "    else:\n",
        "        print(\"No input text provided\")\n",
        "if __name__ == \"__main__\":\n",
        "    main()\n"
      ],
      "metadata": {
        "colab": {
          "base_uri": "https://localhost:8080/"
        },
        "id": "iMuOtYCUSonH",
        "outputId": "2a979397-7775-4a97-9263-4c10269bbfa6"
      },
      "execution_count": null,
      "outputs": [
        {
          "output_type": "stream",
          "name": "stdout",
          "text": [
            "Requirement already satisfied: pytextrank in /usr/local/lib/python3.10/dist-packages (3.3.0)\n",
            "Requirement already satisfied: GitPython>=3.1 in /usr/local/lib/python3.10/dist-packages (from pytextrank) (3.1.43)\n",
            "Requirement already satisfied: graphviz>=0.13 in /usr/local/lib/python3.10/dist-packages (from pytextrank) (0.20.3)\n",
            "Requirement already satisfied: icecream>=2.1 in /usr/local/lib/python3.10/dist-packages (from pytextrank) (2.1.3)\n",
            "Requirement already satisfied: networkx>=2.6 in /usr/local/lib/python3.10/dist-packages (from networkx[default]>=2.6->pytextrank) (3.4.2)\n",
            "Requirement already satisfied: pygments>=2.7.4 in /usr/local/lib/python3.10/dist-packages (from pytextrank) (2.18.0)\n",
            "Requirement already satisfied: scipy>=1.7 in /usr/local/lib/python3.10/dist-packages (from pytextrank) (1.13.1)\n",
            "Requirement already satisfied: spacy>=3.0 in /usr/local/lib/python3.10/dist-packages (from pytextrank) (3.7.5)\n",
            "Requirement already satisfied: gitdb<5,>=4.0.1 in /usr/local/lib/python3.10/dist-packages (from GitPython>=3.1->pytextrank) (4.0.11)\n",
            "Requirement already satisfied: colorama>=0.3.9 in /usr/local/lib/python3.10/dist-packages (from icecream>=2.1->pytextrank) (0.4.6)\n",
            "Requirement already satisfied: executing>=0.3.1 in /usr/local/lib/python3.10/dist-packages (from icecream>=2.1->pytextrank) (2.1.0)\n",
            "Requirement already satisfied: asttokens>=2.0.1 in /usr/local/lib/python3.10/dist-packages (from icecream>=2.1->pytextrank) (2.4.1)\n",
            "Requirement already satisfied: numpy>=1.24 in /usr/local/lib/python3.10/dist-packages (from networkx[default]>=2.6->pytextrank) (1.26.4)\n",
            "Requirement already satisfied: matplotlib>=3.7 in /usr/local/lib/python3.10/dist-packages (from networkx[default]>=2.6->pytextrank) (3.8.0)\n",
            "Requirement already satisfied: pandas>=2.0 in /usr/local/lib/python3.10/dist-packages (from networkx[default]>=2.6->pytextrank) (2.2.2)\n",
            "Requirement already satisfied: spacy-legacy<3.1.0,>=3.0.11 in /usr/local/lib/python3.10/dist-packages (from spacy>=3.0->pytextrank) (3.0.12)\n",
            "Requirement already satisfied: spacy-loggers<2.0.0,>=1.0.0 in /usr/local/lib/python3.10/dist-packages (from spacy>=3.0->pytextrank) (1.0.5)\n",
            "Requirement already satisfied: murmurhash<1.1.0,>=0.28.0 in /usr/local/lib/python3.10/dist-packages (from spacy>=3.0->pytextrank) (1.0.10)\n",
            "Requirement already satisfied: cymem<2.1.0,>=2.0.2 in /usr/local/lib/python3.10/dist-packages (from spacy>=3.0->pytextrank) (2.0.8)\n",
            "Requirement already satisfied: preshed<3.1.0,>=3.0.2 in /usr/local/lib/python3.10/dist-packages (from spacy>=3.0->pytextrank) (3.0.9)\n",
            "Requirement already satisfied: thinc<8.3.0,>=8.2.2 in /usr/local/lib/python3.10/dist-packages (from spacy>=3.0->pytextrank) (8.2.5)\n",
            "Requirement already satisfied: wasabi<1.2.0,>=0.9.1 in /usr/local/lib/python3.10/dist-packages (from spacy>=3.0->pytextrank) (1.1.3)\n",
            "Requirement already satisfied: srsly<3.0.0,>=2.4.3 in /usr/local/lib/python3.10/dist-packages (from spacy>=3.0->pytextrank) (2.4.8)\n",
            "Requirement already satisfied: catalogue<2.1.0,>=2.0.6 in /usr/local/lib/python3.10/dist-packages (from spacy>=3.0->pytextrank) (2.0.10)\n",
            "Requirement already satisfied: weasel<0.5.0,>=0.1.0 in /usr/local/lib/python3.10/dist-packages (from spacy>=3.0->pytextrank) (0.4.1)\n",
            "Requirement already satisfied: typer<1.0.0,>=0.3.0 in /usr/local/lib/python3.10/dist-packages (from spacy>=3.0->pytextrank) (0.13.0)\n",
            "Requirement already satisfied: tqdm<5.0.0,>=4.38.0 in /usr/local/lib/python3.10/dist-packages (from spacy>=3.0->pytextrank) (4.66.6)\n",
            "Requirement already satisfied: requests<3.0.0,>=2.13.0 in /usr/local/lib/python3.10/dist-packages (from spacy>=3.0->pytextrank) (2.32.3)\n",
            "Requirement already satisfied: pydantic!=1.8,!=1.8.1,<3.0.0,>=1.7.4 in /usr/local/lib/python3.10/dist-packages (from spacy>=3.0->pytextrank) (2.9.2)\n",
            "Requirement already satisfied: jinja2 in /usr/local/lib/python3.10/dist-packages (from spacy>=3.0->pytextrank) (3.1.4)\n",
            "Requirement already satisfied: setuptools in /usr/local/lib/python3.10/dist-packages (from spacy>=3.0->pytextrank) (75.1.0)\n",
            "Requirement already satisfied: packaging>=20.0 in /usr/local/lib/python3.10/dist-packages (from spacy>=3.0->pytextrank) (24.2)\n",
            "Requirement already satisfied: langcodes<4.0.0,>=3.2.0 in /usr/local/lib/python3.10/dist-packages (from spacy>=3.0->pytextrank) (3.4.1)\n",
            "Requirement already satisfied: six>=1.12.0 in /usr/local/lib/python3.10/dist-packages (from asttokens>=2.0.1->icecream>=2.1->pytextrank) (1.16.0)\n",
            "Requirement already satisfied: smmap<6,>=3.0.1 in /usr/local/lib/python3.10/dist-packages (from gitdb<5,>=4.0.1->GitPython>=3.1->pytextrank) (5.0.1)\n",
            "Requirement already satisfied: language-data>=1.2 in /usr/local/lib/python3.10/dist-packages (from langcodes<4.0.0,>=3.2.0->spacy>=3.0->pytextrank) (1.2.0)\n",
            "Requirement already satisfied: contourpy>=1.0.1 in /usr/local/lib/python3.10/dist-packages (from matplotlib>=3.7->networkx[default]>=2.6->pytextrank) (1.3.1)\n",
            "Requirement already satisfied: cycler>=0.10 in /usr/local/lib/python3.10/dist-packages (from matplotlib>=3.7->networkx[default]>=2.6->pytextrank) (0.12.1)\n",
            "Requirement already satisfied: fonttools>=4.22.0 in /usr/local/lib/python3.10/dist-packages (from matplotlib>=3.7->networkx[default]>=2.6->pytextrank) (4.54.1)\n",
            "Requirement already satisfied: kiwisolver>=1.0.1 in /usr/local/lib/python3.10/dist-packages (from matplotlib>=3.7->networkx[default]>=2.6->pytextrank) (1.4.7)\n",
            "Requirement already satisfied: pillow>=6.2.0 in /usr/local/lib/python3.10/dist-packages (from matplotlib>=3.7->networkx[default]>=2.6->pytextrank) (11.0.0)\n",
            "Requirement already satisfied: pyparsing>=2.3.1 in /usr/local/lib/python3.10/dist-packages (from matplotlib>=3.7->networkx[default]>=2.6->pytextrank) (3.2.0)\n",
            "Requirement already satisfied: python-dateutil>=2.7 in /usr/local/lib/python3.10/dist-packages (from matplotlib>=3.7->networkx[default]>=2.6->pytextrank) (2.8.2)\n",
            "Requirement already satisfied: pytz>=2020.1 in /usr/local/lib/python3.10/dist-packages (from pandas>=2.0->networkx[default]>=2.6->pytextrank) (2024.2)\n",
            "Requirement already satisfied: tzdata>=2022.7 in /usr/local/lib/python3.10/dist-packages (from pandas>=2.0->networkx[default]>=2.6->pytextrank) (2024.2)\n",
            "Requirement already satisfied: annotated-types>=0.6.0 in /usr/local/lib/python3.10/dist-packages (from pydantic!=1.8,!=1.8.1,<3.0.0,>=1.7.4->spacy>=3.0->pytextrank) (0.7.0)\n",
            "Requirement already satisfied: pydantic-core==2.23.4 in /usr/local/lib/python3.10/dist-packages (from pydantic!=1.8,!=1.8.1,<3.0.0,>=1.7.4->spacy>=3.0->pytextrank) (2.23.4)\n",
            "Requirement already satisfied: typing-extensions>=4.6.1 in /usr/local/lib/python3.10/dist-packages (from pydantic!=1.8,!=1.8.1,<3.0.0,>=1.7.4->spacy>=3.0->pytextrank) (4.12.2)\n",
            "Requirement already satisfied: charset-normalizer<4,>=2 in /usr/local/lib/python3.10/dist-packages (from requests<3.0.0,>=2.13.0->spacy>=3.0->pytextrank) (3.4.0)\n",
            "Requirement already satisfied: idna<4,>=2.5 in /usr/local/lib/python3.10/dist-packages (from requests<3.0.0,>=2.13.0->spacy>=3.0->pytextrank) (3.10)\n",
            "Requirement already satisfied: urllib3<3,>=1.21.1 in /usr/local/lib/python3.10/dist-packages (from requests<3.0.0,>=2.13.0->spacy>=3.0->pytextrank) (2.2.3)\n",
            "Requirement already satisfied: certifi>=2017.4.17 in /usr/local/lib/python3.10/dist-packages (from requests<3.0.0,>=2.13.0->spacy>=3.0->pytextrank) (2024.8.30)\n",
            "Requirement already satisfied: blis<0.8.0,>=0.7.8 in /usr/local/lib/python3.10/dist-packages (from thinc<8.3.0,>=8.2.2->spacy>=3.0->pytextrank) (0.7.11)\n",
            "Requirement already satisfied: confection<1.0.0,>=0.0.1 in /usr/local/lib/python3.10/dist-packages (from thinc<8.3.0,>=8.2.2->spacy>=3.0->pytextrank) (0.1.5)\n",
            "Requirement already satisfied: click>=8.0.0 in /usr/local/lib/python3.10/dist-packages (from typer<1.0.0,>=0.3.0->spacy>=3.0->pytextrank) (8.1.7)\n",
            "Requirement already satisfied: shellingham>=1.3.0 in /usr/local/lib/python3.10/dist-packages (from typer<1.0.0,>=0.3.0->spacy>=3.0->pytextrank) (1.5.4)\n",
            "Requirement already satisfied: rich>=10.11.0 in /usr/local/lib/python3.10/dist-packages (from typer<1.0.0,>=0.3.0->spacy>=3.0->pytextrank) (13.9.4)\n",
            "Requirement already satisfied: cloudpathlib<1.0.0,>=0.7.0 in /usr/local/lib/python3.10/dist-packages (from weasel<0.5.0,>=0.1.0->spacy>=3.0->pytextrank) (0.20.0)\n",
            "Requirement already satisfied: smart-open<8.0.0,>=5.2.1 in /usr/local/lib/python3.10/dist-packages (from weasel<0.5.0,>=0.1.0->spacy>=3.0->pytextrank) (7.0.5)\n",
            "Requirement already satisfied: MarkupSafe>=2.0 in /usr/local/lib/python3.10/dist-packages (from jinja2->spacy>=3.0->pytextrank) (3.0.2)\n",
            "Requirement already satisfied: marisa-trie>=0.7.7 in /usr/local/lib/python3.10/dist-packages (from language-data>=1.2->langcodes<4.0.0,>=3.2.0->spacy>=3.0->pytextrank) (1.2.1)\n",
            "Requirement already satisfied: markdown-it-py>=2.2.0 in /usr/local/lib/python3.10/dist-packages (from rich>=10.11.0->typer<1.0.0,>=0.3.0->spacy>=3.0->pytextrank) (3.0.0)\n",
            "Requirement already satisfied: wrapt in /usr/local/lib/python3.10/dist-packages (from smart-open<8.0.0,>=5.2.1->weasel<0.5.0,>=0.1.0->spacy>=3.0->pytextrank) (1.16.0)\n",
            "Requirement already satisfied: mdurl~=0.1 in /usr/local/lib/python3.10/dist-packages (from markdown-it-py>=2.2.0->rich>=10.11.0->typer<1.0.0,>=0.3.0->spacy>=3.0->pytextrank) (0.1.2)\n",
            "Requirement already satisfied: spacy in /usr/local/lib/python3.10/dist-packages (3.7.5)\n",
            "Requirement already satisfied: spacy-legacy<3.1.0,>=3.0.11 in /usr/local/lib/python3.10/dist-packages (from spacy) (3.0.12)\n",
            "Requirement already satisfied: spacy-loggers<2.0.0,>=1.0.0 in /usr/local/lib/python3.10/dist-packages (from spacy) (1.0.5)\n",
            "Requirement already satisfied: murmurhash<1.1.0,>=0.28.0 in /usr/local/lib/python3.10/dist-packages (from spacy) (1.0.10)\n",
            "Requirement already satisfied: cymem<2.1.0,>=2.0.2 in /usr/local/lib/python3.10/dist-packages (from spacy) (2.0.8)\n",
            "Requirement already satisfied: preshed<3.1.0,>=3.0.2 in /usr/local/lib/python3.10/dist-packages (from spacy) (3.0.9)\n",
            "Requirement already satisfied: thinc<8.3.0,>=8.2.2 in /usr/local/lib/python3.10/dist-packages (from spacy) (8.2.5)\n",
            "Requirement already satisfied: wasabi<1.2.0,>=0.9.1 in /usr/local/lib/python3.10/dist-packages (from spacy) (1.1.3)\n",
            "Requirement already satisfied: srsly<3.0.0,>=2.4.3 in /usr/local/lib/python3.10/dist-packages (from spacy) (2.4.8)\n",
            "Requirement already satisfied: catalogue<2.1.0,>=2.0.6 in /usr/local/lib/python3.10/dist-packages (from spacy) (2.0.10)\n",
            "Requirement already satisfied: weasel<0.5.0,>=0.1.0 in /usr/local/lib/python3.10/dist-packages (from spacy) (0.4.1)\n",
            "Requirement already satisfied: typer<1.0.0,>=0.3.0 in /usr/local/lib/python3.10/dist-packages (from spacy) (0.13.0)\n",
            "Requirement already satisfied: tqdm<5.0.0,>=4.38.0 in /usr/local/lib/python3.10/dist-packages (from spacy) (4.66.6)\n",
            "Requirement already satisfied: requests<3.0.0,>=2.13.0 in /usr/local/lib/python3.10/dist-packages (from spacy) (2.32.3)\n",
            "Requirement already satisfied: pydantic!=1.8,!=1.8.1,<3.0.0,>=1.7.4 in /usr/local/lib/python3.10/dist-packages (from spacy) (2.9.2)\n",
            "Requirement already satisfied: jinja2 in /usr/local/lib/python3.10/dist-packages (from spacy) (3.1.4)\n",
            "Requirement already satisfied: setuptools in /usr/local/lib/python3.10/dist-packages (from spacy) (75.1.0)\n",
            "Requirement already satisfied: packaging>=20.0 in /usr/local/lib/python3.10/dist-packages (from spacy) (24.2)\n",
            "Requirement already satisfied: langcodes<4.0.0,>=3.2.0 in /usr/local/lib/python3.10/dist-packages (from spacy) (3.4.1)\n",
            "Requirement already satisfied: numpy>=1.19.0 in /usr/local/lib/python3.10/dist-packages (from spacy) (1.26.4)\n",
            "Requirement already satisfied: language-data>=1.2 in /usr/local/lib/python3.10/dist-packages (from langcodes<4.0.0,>=3.2.0->spacy) (1.2.0)\n",
            "Requirement already satisfied: annotated-types>=0.6.0 in /usr/local/lib/python3.10/dist-packages (from pydantic!=1.8,!=1.8.1,<3.0.0,>=1.7.4->spacy) (0.7.0)\n",
            "Requirement already satisfied: pydantic-core==2.23.4 in /usr/local/lib/python3.10/dist-packages (from pydantic!=1.8,!=1.8.1,<3.0.0,>=1.7.4->spacy) (2.23.4)\n",
            "Requirement already satisfied: typing-extensions>=4.6.1 in /usr/local/lib/python3.10/dist-packages (from pydantic!=1.8,!=1.8.1,<3.0.0,>=1.7.4->spacy) (4.12.2)\n",
            "Requirement already satisfied: charset-normalizer<4,>=2 in /usr/local/lib/python3.10/dist-packages (from requests<3.0.0,>=2.13.0->spacy) (3.4.0)\n",
            "Requirement already satisfied: idna<4,>=2.5 in /usr/local/lib/python3.10/dist-packages (from requests<3.0.0,>=2.13.0->spacy) (3.10)\n",
            "Requirement already satisfied: urllib3<3,>=1.21.1 in /usr/local/lib/python3.10/dist-packages (from requests<3.0.0,>=2.13.0->spacy) (2.2.3)\n",
            "Requirement already satisfied: certifi>=2017.4.17 in /usr/local/lib/python3.10/dist-packages (from requests<3.0.0,>=2.13.0->spacy) (2024.8.30)\n",
            "Requirement already satisfied: blis<0.8.0,>=0.7.8 in /usr/local/lib/python3.10/dist-packages (from thinc<8.3.0,>=8.2.2->spacy) (0.7.11)\n",
            "Requirement already satisfied: confection<1.0.0,>=0.0.1 in /usr/local/lib/python3.10/dist-packages (from thinc<8.3.0,>=8.2.2->spacy) (0.1.5)\n",
            "Requirement already satisfied: click>=8.0.0 in /usr/local/lib/python3.10/dist-packages (from typer<1.0.0,>=0.3.0->spacy) (8.1.7)\n",
            "Requirement already satisfied: shellingham>=1.3.0 in /usr/local/lib/python3.10/dist-packages (from typer<1.0.0,>=0.3.0->spacy) (1.5.4)\n",
            "Requirement already satisfied: rich>=10.11.0 in /usr/local/lib/python3.10/dist-packages (from typer<1.0.0,>=0.3.0->spacy) (13.9.4)\n",
            "Requirement already satisfied: cloudpathlib<1.0.0,>=0.7.0 in /usr/local/lib/python3.10/dist-packages (from weasel<0.5.0,>=0.1.0->spacy) (0.20.0)\n",
            "Requirement already satisfied: smart-open<8.0.0,>=5.2.1 in /usr/local/lib/python3.10/dist-packages (from weasel<0.5.0,>=0.1.0->spacy) (7.0.5)\n",
            "Requirement already satisfied: MarkupSafe>=2.0 in /usr/local/lib/python3.10/dist-packages (from jinja2->spacy) (3.0.2)\n",
            "Requirement already satisfied: marisa-trie>=0.7.7 in /usr/local/lib/python3.10/dist-packages (from language-data>=1.2->langcodes<4.0.0,>=3.2.0->spacy) (1.2.1)\n",
            "Requirement already satisfied: markdown-it-py>=2.2.0 in /usr/local/lib/python3.10/dist-packages (from rich>=10.11.0->typer<1.0.0,>=0.3.0->spacy) (3.0.0)\n",
            "Requirement already satisfied: pygments<3.0.0,>=2.13.0 in /usr/local/lib/python3.10/dist-packages (from rich>=10.11.0->typer<1.0.0,>=0.3.0->spacy) (2.18.0)\n",
            "Requirement already satisfied: wrapt in /usr/local/lib/python3.10/dist-packages (from smart-open<8.0.0,>=5.2.1->weasel<0.5.0,>=0.1.0->spacy) (1.16.0)\n",
            "Requirement already satisfied: mdurl~=0.1 in /usr/local/lib/python3.10/dist-packages (from markdown-it-py>=2.2.0->rich>=10.11.0->typer<1.0.0,>=0.3.0->spacy) (0.1.2)\n",
            "Collecting en-core-web-lg==3.7.1\n",
            "  Downloading https://github.com/explosion/spacy-models/releases/download/en_core_web_lg-3.7.1/en_core_web_lg-3.7.1-py3-none-any.whl (587.7 MB)\n",
            "\u001b[2K     \u001b[90m━━━━━━━━━━━━━━━━━━━━━━━━━━━━━━━━━━━━━━━━\u001b[0m \u001b[32m587.7/587.7 MB\u001b[0m \u001b[31m1.1 MB/s\u001b[0m eta \u001b[36m0:00:00\u001b[0m\n",
            "\u001b[?25hRequirement already satisfied: spacy<3.8.0,>=3.7.2 in /usr/local/lib/python3.10/dist-packages (from en-core-web-lg==3.7.1) (3.7.5)\n",
            "Requirement already satisfied: spacy-legacy<3.1.0,>=3.0.11 in /usr/local/lib/python3.10/dist-packages (from spacy<3.8.0,>=3.7.2->en-core-web-lg==3.7.1) (3.0.12)\n",
            "Requirement already satisfied: spacy-loggers<2.0.0,>=1.0.0 in /usr/local/lib/python3.10/dist-packages (from spacy<3.8.0,>=3.7.2->en-core-web-lg==3.7.1) (1.0.5)\n",
            "Requirement already satisfied: murmurhash<1.1.0,>=0.28.0 in /usr/local/lib/python3.10/dist-packages (from spacy<3.8.0,>=3.7.2->en-core-web-lg==3.7.1) (1.0.10)\n",
            "Requirement already satisfied: cymem<2.1.0,>=2.0.2 in /usr/local/lib/python3.10/dist-packages (from spacy<3.8.0,>=3.7.2->en-core-web-lg==3.7.1) (2.0.8)\n",
            "Requirement already satisfied: preshed<3.1.0,>=3.0.2 in /usr/local/lib/python3.10/dist-packages (from spacy<3.8.0,>=3.7.2->en-core-web-lg==3.7.1) (3.0.9)\n",
            "Requirement already satisfied: thinc<8.3.0,>=8.2.2 in /usr/local/lib/python3.10/dist-packages (from spacy<3.8.0,>=3.7.2->en-core-web-lg==3.7.1) (8.2.5)\n",
            "Requirement already satisfied: wasabi<1.2.0,>=0.9.1 in /usr/local/lib/python3.10/dist-packages (from spacy<3.8.0,>=3.7.2->en-core-web-lg==3.7.1) (1.1.3)\n",
            "Requirement already satisfied: srsly<3.0.0,>=2.4.3 in /usr/local/lib/python3.10/dist-packages (from spacy<3.8.0,>=3.7.2->en-core-web-lg==3.7.1) (2.4.8)\n",
            "Requirement already satisfied: catalogue<2.1.0,>=2.0.6 in /usr/local/lib/python3.10/dist-packages (from spacy<3.8.0,>=3.7.2->en-core-web-lg==3.7.1) (2.0.10)\n",
            "Requirement already satisfied: weasel<0.5.0,>=0.1.0 in /usr/local/lib/python3.10/dist-packages (from spacy<3.8.0,>=3.7.2->en-core-web-lg==3.7.1) (0.4.1)\n",
            "Requirement already satisfied: typer<1.0.0,>=0.3.0 in /usr/local/lib/python3.10/dist-packages (from spacy<3.8.0,>=3.7.2->en-core-web-lg==3.7.1) (0.13.0)\n",
            "Requirement already satisfied: tqdm<5.0.0,>=4.38.0 in /usr/local/lib/python3.10/dist-packages (from spacy<3.8.0,>=3.7.2->en-core-web-lg==3.7.1) (4.66.6)\n",
            "Requirement already satisfied: requests<3.0.0,>=2.13.0 in /usr/local/lib/python3.10/dist-packages (from spacy<3.8.0,>=3.7.2->en-core-web-lg==3.7.1) (2.32.3)\n",
            "Requirement already satisfied: pydantic!=1.8,!=1.8.1,<3.0.0,>=1.7.4 in /usr/local/lib/python3.10/dist-packages (from spacy<3.8.0,>=3.7.2->en-core-web-lg==3.7.1) (2.9.2)\n",
            "Requirement already satisfied: jinja2 in /usr/local/lib/python3.10/dist-packages (from spacy<3.8.0,>=3.7.2->en-core-web-lg==3.7.1) (3.1.4)\n",
            "Requirement already satisfied: setuptools in /usr/local/lib/python3.10/dist-packages (from spacy<3.8.0,>=3.7.2->en-core-web-lg==3.7.1) (75.1.0)\n",
            "Requirement already satisfied: packaging>=20.0 in /usr/local/lib/python3.10/dist-packages (from spacy<3.8.0,>=3.7.2->en-core-web-lg==3.7.1) (24.2)\n",
            "Requirement already satisfied: langcodes<4.0.0,>=3.2.0 in /usr/local/lib/python3.10/dist-packages (from spacy<3.8.0,>=3.7.2->en-core-web-lg==3.7.1) (3.4.1)\n",
            "Requirement already satisfied: numpy>=1.19.0 in /usr/local/lib/python3.10/dist-packages (from spacy<3.8.0,>=3.7.2->en-core-web-lg==3.7.1) (1.26.4)\n",
            "Requirement already satisfied: language-data>=1.2 in /usr/local/lib/python3.10/dist-packages (from langcodes<4.0.0,>=3.2.0->spacy<3.8.0,>=3.7.2->en-core-web-lg==3.7.1) (1.2.0)\n",
            "Requirement already satisfied: annotated-types>=0.6.0 in /usr/local/lib/python3.10/dist-packages (from pydantic!=1.8,!=1.8.1,<3.0.0,>=1.7.4->spacy<3.8.0,>=3.7.2->en-core-web-lg==3.7.1) (0.7.0)\n",
            "Requirement already satisfied: pydantic-core==2.23.4 in /usr/local/lib/python3.10/dist-packages (from pydantic!=1.8,!=1.8.1,<3.0.0,>=1.7.4->spacy<3.8.0,>=3.7.2->en-core-web-lg==3.7.1) (2.23.4)\n",
            "Requirement already satisfied: typing-extensions>=4.6.1 in /usr/local/lib/python3.10/dist-packages (from pydantic!=1.8,!=1.8.1,<3.0.0,>=1.7.4->spacy<3.8.0,>=3.7.2->en-core-web-lg==3.7.1) (4.12.2)\n",
            "Requirement already satisfied: charset-normalizer<4,>=2 in /usr/local/lib/python3.10/dist-packages (from requests<3.0.0,>=2.13.0->spacy<3.8.0,>=3.7.2->en-core-web-lg==3.7.1) (3.4.0)\n",
            "Requirement already satisfied: idna<4,>=2.5 in /usr/local/lib/python3.10/dist-packages (from requests<3.0.0,>=2.13.0->spacy<3.8.0,>=3.7.2->en-core-web-lg==3.7.1) (3.10)\n",
            "Requirement already satisfied: urllib3<3,>=1.21.1 in /usr/local/lib/python3.10/dist-packages (from requests<3.0.0,>=2.13.0->spacy<3.8.0,>=3.7.2->en-core-web-lg==3.7.1) (2.2.3)\n",
            "Requirement already satisfied: certifi>=2017.4.17 in /usr/local/lib/python3.10/dist-packages (from requests<3.0.0,>=2.13.0->spacy<3.8.0,>=3.7.2->en-core-web-lg==3.7.1) (2024.8.30)\n",
            "Requirement already satisfied: blis<0.8.0,>=0.7.8 in /usr/local/lib/python3.10/dist-packages (from thinc<8.3.0,>=8.2.2->spacy<3.8.0,>=3.7.2->en-core-web-lg==3.7.1) (0.7.11)\n",
            "Requirement already satisfied: confection<1.0.0,>=0.0.1 in /usr/local/lib/python3.10/dist-packages (from thinc<8.3.0,>=8.2.2->spacy<3.8.0,>=3.7.2->en-core-web-lg==3.7.1) (0.1.5)\n",
            "Requirement already satisfied: click>=8.0.0 in /usr/local/lib/python3.10/dist-packages (from typer<1.0.0,>=0.3.0->spacy<3.8.0,>=3.7.2->en-core-web-lg==3.7.1) (8.1.7)\n",
            "Requirement already satisfied: shellingham>=1.3.0 in /usr/local/lib/python3.10/dist-packages (from typer<1.0.0,>=0.3.0->spacy<3.8.0,>=3.7.2->en-core-web-lg==3.7.1) (1.5.4)\n",
            "Requirement already satisfied: rich>=10.11.0 in /usr/local/lib/python3.10/dist-packages (from typer<1.0.0,>=0.3.0->spacy<3.8.0,>=3.7.2->en-core-web-lg==3.7.1) (13.9.4)\n",
            "Requirement already satisfied: cloudpathlib<1.0.0,>=0.7.0 in /usr/local/lib/python3.10/dist-packages (from weasel<0.5.0,>=0.1.0->spacy<3.8.0,>=3.7.2->en-core-web-lg==3.7.1) (0.20.0)\n",
            "Requirement already satisfied: smart-open<8.0.0,>=5.2.1 in /usr/local/lib/python3.10/dist-packages (from weasel<0.5.0,>=0.1.0->spacy<3.8.0,>=3.7.2->en-core-web-lg==3.7.1) (7.0.5)\n",
            "Requirement already satisfied: MarkupSafe>=2.0 in /usr/local/lib/python3.10/dist-packages (from jinja2->spacy<3.8.0,>=3.7.2->en-core-web-lg==3.7.1) (3.0.2)\n",
            "Requirement already satisfied: marisa-trie>=0.7.7 in /usr/local/lib/python3.10/dist-packages (from language-data>=1.2->langcodes<4.0.0,>=3.2.0->spacy<3.8.0,>=3.7.2->en-core-web-lg==3.7.1) (1.2.1)\n",
            "Requirement already satisfied: markdown-it-py>=2.2.0 in /usr/local/lib/python3.10/dist-packages (from rich>=10.11.0->typer<1.0.0,>=0.3.0->spacy<3.8.0,>=3.7.2->en-core-web-lg==3.7.1) (3.0.0)\n",
            "Requirement already satisfied: pygments<3.0.0,>=2.13.0 in /usr/local/lib/python3.10/dist-packages (from rich>=10.11.0->typer<1.0.0,>=0.3.0->spacy<3.8.0,>=3.7.2->en-core-web-lg==3.7.1) (2.18.0)\n",
            "Requirement already satisfied: wrapt in /usr/local/lib/python3.10/dist-packages (from smart-open<8.0.0,>=5.2.1->weasel<0.5.0,>=0.1.0->spacy<3.8.0,>=3.7.2->en-core-web-lg==3.7.1) (1.16.0)\n",
            "Requirement already satisfied: mdurl~=0.1 in /usr/local/lib/python3.10/dist-packages (from markdown-it-py>=2.2.0->rich>=10.11.0->typer<1.0.0,>=0.3.0->spacy<3.8.0,>=3.7.2->en-core-web-lg==3.7.1) (0.1.2)\n",
            "\u001b[38;5;2m✔ Download and installation successful\u001b[0m\n",
            "You can now load the package via spacy.load('en_core_web_lg')\n",
            "\u001b[38;5;3m⚠ Restart to reload dependencies\u001b[0m\n",
            "If you are in a Jupyter or Colab notebook, you may need to restart Python in\n",
            "order to load all the package's dependencies. You can do this by selecting the\n",
            "'Restart kernel' or 'Restart runtime' option.\n",
            "Enter text to extract keywords from: Hello this is ranjith currently studing AIML in REC college\n",
            "\n",
            "Keywords:\n",
            "REC college\n",
            "AIML\n",
            "REC\n",
            "ranjith currently studing AIML\n",
            "this\n"
          ]
        }
      ]
    },
    {
      "cell_type": "code",
      "source": [
        "\"10.DEVELOP A SEARCH ENGINE FOR RESEARCH PAPERS\"\n",
        "import spacy\n",
        "import pytextrank\n",
        "import wikipedia\n",
        "ir = spacy.load(\"en_core_web_lg\")\n",
        "ir.add_pipe(\"textrank\")\n",
        "def search_papers(query):\n",
        "    \"\"\"\n",
        "    Searches for research papers based on a user query.\n",
        "    Args:\n",
        "    query: The user's search query.\n",
        "\n",
        "    Returns:\n",
        "    None\n",
        "    \"\"\"\n",
        "    results = wikipedia.search(query)\n",
        "    if results:\n",
        "        print(\"Search results:\")\n",
        "        for i, result in enumerate(results):\n",
        "            print(f\"{i+1}. {result}\")\n",
        "        choice = int(input(\"Enter the number of the article you want to view (or 0 to exit): \"))\n",
        "        if choice > 0 and choice <= len(results):\n",
        "            try:\n",
        "                page = wikipedia.page(results[choice - 1])\n",
        "                print(\"\\nTitle:\", page.title)\n",
        "                print(\"Summary:\", page.summary)\n",
        "                doc = ir(page.summary)\n",
        "                keywords = [phrase.text for phrase in doc._.phrases[:5]]\n",
        "                print(\"Keywords:\", keywords)\n",
        "            except wikipedia.exceptions.DisambiguationError as e:\n",
        "                print(\"Disambiguation Error:\", e.options)\n",
        "            except wikipedia.exceptions.PageError as e:\n",
        "                print(\"Page Error:\", e)\n",
        "        else:\n",
        "            print(\"No valid choice selected.\")\n",
        "    else:\n",
        "        print(\"No results found.\")\n",
        "if __name__ == \"__main__\":\n",
        "    user_query = input(\"Enter your search query: \")\n",
        "    search_papers(user_query)\n"
      ],
      "metadata": {
        "colab": {
          "base_uri": "https://localhost:8080/"
        },
        "id": "h3ZFBFfPTMik",
        "outputId": "a9ab4140-ea2a-4fc9-b930-0e22aadba45f"
      },
      "execution_count": null,
      "outputs": [
        {
          "output_type": "stream",
          "name": "stdout",
          "text": [
            "Enter your search query: Search\n",
            "Search results:\n",
            "1. Searching\n",
            "2. Search engine\n",
            "3. Google Search\n",
            "4. Binary search\n",
            "5. The Search\n",
            "6. In Search of...\n",
            "7. The Searchers\n",
            "8. List of search engines\n",
            "9. Search engine optimization\n",
            "10. Yandex Search\n",
            "Enter the number of the article you want to view (or 0 to exit): 4\n",
            "\n",
            "Title: Binary search\n",
            "Summary: In computer science, binary search, also known as half-interval search, logarithmic search, or binary chop, is a search algorithm that finds the position of a target value within a sorted array. Binary search compares the target value to the middle element of the array. If they are not equal, the half in which the target cannot lie is eliminated and the search continues on the remaining half, again taking the middle element to compare to the target value, and repeating this until the target value is found. If the search ends with the remaining half being empty, the target is not in the array.\n",
            "Binary search runs in logarithmic time in the worst case, making \n",
            "  \n",
            "    \n",
            "      \n",
            "        O\n",
            "        (\n",
            "        log\n",
            "        ⁡\n",
            "        n\n",
            "        )\n",
            "      \n",
            "    \n",
            "    {\\displaystyle O(\\log n)}\n",
            "  \n",
            " comparisons, where \n",
            "  \n",
            "    \n",
            "      \n",
            "        n\n",
            "      \n",
            "    \n",
            "    {\\displaystyle n}\n",
            "  \n",
            " is the number of elements in the array. Binary search is faster than linear search except for small arrays. However, the array must be sorted first to be able to apply binary search. There are specialized data structures designed for fast searching, such as hash tables, that can be searched more efficiently than binary search. However, binary search can be used to solve a wider range of problems, such as finding the next-smallest or next-largest element in the array relative to the target even if it is absent from the array.\n",
            "There are numerous variations of binary search. In particular, fractional cascading speeds up binary searches for the same value in multiple arrays. Fractional cascading efficiently solves a number of search problems in computational geometry and in numerous other fields. Exponential search extends binary search to unbounded lists. The binary search tree and B-tree data structures are based on binary search.\n",
            "\n",
            "\n",
            "Keywords: ['Binary search', 'binary search', 'binary searches', 'Binary search runs', 'search problems']\n"
          ]
        }
      ]
    }
  ]
}